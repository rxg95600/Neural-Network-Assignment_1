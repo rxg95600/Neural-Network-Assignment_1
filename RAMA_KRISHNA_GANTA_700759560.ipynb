{
  "nbformat": 4,
  "nbformat_minor": 0,
  "metadata": {
    "colab": {
      "provenance": [],
      "authorship_tag": "ABX9TyP7ea+7+BFHy+RQVEe7oC0t",
      "include_colab_link": true
    },
    "kernelspec": {
      "name": "python3",
      "display_name": "Python 3"
    },
    "language_info": {
      "name": "python"
    }
  },
  "cells": [
    {
      "cell_type": "markdown",
      "metadata": {
        "id": "view-in-github",
        "colab_type": "text"
      },
      "source": [
        "<a href=\"https://colab.research.google.com/github/rxg95600/Neural-Network-Assignment_1/blob/main/RAMA_KRISHNA_GANTA_700759560.ipynb\" target=\"_parent\"><img src=\"https://colab.research.google.com/assets/colab-badge.svg\" alt=\"Open In Colab\"/></a>"
      ]
    },
    {
      "cell_type": "markdown",
      "source": [
        "**QUESTION-1**\n",
        "\n",
        "\n",
        "\n",
        "\n",
        "\n"
      ],
      "metadata": {
        "id": "GhiKvun6mQU9"
      }
    },
    {
      "cell_type": "code",
      "execution_count": 4,
      "metadata": {
        "colab": {
          "base_uri": "https://localhost:8080/"
        },
        "id": "zAAzbFU8BJHU",
        "outputId": "993221af-04bd-4837-e907-1bfe672754ac"
      },
      "outputs": [
        {
          "output_type": "stream",
          "name": "stdout",
          "text": [
            "Enter your first name: Ramakrishna\n",
            "Enter your last name: Ganta\n",
            "Full name: Ramakrishna Ganta\n",
            "String with alternate characters: RmkihaGna\n"
          ]
        }
      ],
      "source": [
        "# Function to get the full name\n",
        "def fullname(first_name, last_name):\n",
        "    return first_name + \" \" + last_name\n",
        "\n",
        "# Function to return every other character in the string\n",
        "def string_alternative(full_name):\n",
        "    return full_name[::2]\n",
        "\n",
        "def main():\n",
        "    # Take inputs from the user\n",
        "    first_name = input(\"Enter your first name: \")\n",
        "    last_name = input(\"Enter your last name: \")\n",
        "\n",
        "    # Get the full name\n",
        "    full_name = fullname(first_name, last_name)\n",
        "    print(\"Full name:\", full_name)\n",
        "\n",
        "    # Get the alternative string\n",
        "    alt_string = string_alternative(full_name)\n",
        "    print(\"String with alternate characters:\", alt_string)\n",
        "\n",
        "# Call the main function\n",
        "if __name__ == \"__main__\":\n",
        "    main()\n",
        "\n"
      ]
    },
    {
      "cell_type": "markdown",
      "source": [
        "QUESTION-2\n",
        "\n"
      ],
      "metadata": {
        "id": "lMbB32f1Bpti"
      }
    },
    {
      "cell_type": "code",
      "source": [
        "# Create input.txt in Colab\n",
        "%%writefile input.txt\n",
        "Python Course\n",
        "Deep Learning Course\n"
      ],
      "metadata": {
        "colab": {
          "base_uri": "https://localhost:8080/"
        },
        "id": "Er-X2Gi7EqzO",
        "outputId": "eb1d0a30-de69-41d6-a57d-075d82929d9b"
      },
      "execution_count": 1,
      "outputs": [
        {
          "output_type": "stream",
          "name": "stdout",
          "text": [
            "Writing input.txt\n"
          ]
        }
      ]
    },
    {
      "cell_type": "code",
      "source": [
        "from collections import Counter\n",
        "\n",
        "# Function to perform word count and save it to output.txt\n",
        "def word_count(input_file, output_file):\n",
        "    # Dictionary to store the word count across all lines\n",
        "    word_counter = Counter()\n",
        "\n",
        "    with open(input_file, 'r') as infile:\n",
        "        lines = infile.readlines()\n",
        "\n",
        "    # Open the output file in write mode\n",
        "    with open(output_file, 'w') as outfile:\n",
        "        # Write original content to the output file\n",
        "        outfile.write(\"Original Content:\\n\")\n",
        "        for line in lines:\n",
        "            outfile.write(line)\n",
        "\n",
        "        # Write the word count section\n",
        "        outfile.write(\"\\nWord_Count:\\n\")\n",
        "\n",
        "        for line in lines:\n",
        "            words = line.split()\n",
        "            word_counter.update(words)\n",
        "\n",
        "        # Writing the word count to the output file\n",
        "        for word, count in word_counter.items():\n",
        "            outfile.write(f\"{word}: {count}\\n\")\n",
        "\n",
        "# Call the function to execute\n",
        "input_file = 'input.txt'\n",
        "output_file = 'output.txt'\n",
        "word_count(input_file, output_file)\n",
        "print(\"Word count has been written to output.txt\")\n"
      ],
      "metadata": {
        "colab": {
          "base_uri": "https://localhost:8080/"
        },
        "id": "pJQWoYhuGvzL",
        "outputId": "66780464-b5d2-4540-d4f4-3f2c035a67b3"
      },
      "execution_count": 2,
      "outputs": [
        {
          "output_type": "stream",
          "name": "stdout",
          "text": [
            "Word count has been written to output.txt\n"
          ]
        }
      ]
    },
    {
      "cell_type": "code",
      "source": [
        "# Display the content of output.txt\n",
        "with open('output.txt', 'r') as file:\n",
        "    output = file.read()\n",
        "    print(output)\n"
      ],
      "metadata": {
        "colab": {
          "base_uri": "https://localhost:8080/"
        },
        "id": "6cGyr3WFG7Uk",
        "outputId": "c9dc12c9-f77b-4faa-d7a6-02dd28c35595"
      },
      "execution_count": 3,
      "outputs": [
        {
          "output_type": "stream",
          "name": "stdout",
          "text": [
            "Original Content:\n",
            "Python Course\n",
            "Deep Learning Course\n",
            "\n",
            "Word_Count:\n",
            "Python: 1\n",
            "Course: 2\n",
            "Deep: 1\n",
            "Learning: 1\n",
            "\n"
          ]
        }
      ]
    },
    {
      "cell_type": "markdown",
      "source": [
        "QUESTION-3"
      ],
      "metadata": {
        "id": "Xbr_R4uXnDS8"
      }
    },
    {
      "cell_type": "code",
      "source": [
        "def inches_to_centimeters_nested(heights_inches):\n",
        "    heights_centimeters = []\n",
        "    for inch in heights_inches:\n",
        "        centimeter = inch * 2.54\n",
        "        heights_centimeters.append(round(centimeter, 2))\n",
        "    return heights_centimeters\n",
        "\n",
        "def inches_to_centimeters_list_comprehension(heights_inches):\n",
        "    return [round(inch * 2.54, 2) for inch in heights_inches]\n",
        "\n",
        "def main():\n",
        "    # Get input from the user\n",
        "    try:\n",
        "        num_customers = int(input(\"Enter the number of heights: \"))\n",
        "        heights_inches = []\n",
        "        for i in range(num_customers):\n",
        "            height = float(input(f\"Enter height (in inches) for height {i + 1}: \"))\n",
        "            heights_inches.append(height)\n",
        "\n",
        "        # Convert using nested interactive loop\n",
        "        heights_centimeters_nested = inches_to_centimeters_nested(heights_inches)\n",
        "\n",
        "        # Convert using list comprehension\n",
        "        heights_centimeters_list_comp = inches_to_centimeters_list_comprehension(heights_inches)\n",
        "\n",
        "        # Print the results\n",
        "        print(\"\\nHeights (in inches):\", heights_inches)\n",
        "        print(\"Heights (in centimeters) using nested loop:\", heights_centimeters_nested)\n",
        "        print(\"Heights (in centimeters) using list comprehension:\", heights_centimeters_list_comp)\n",
        "\n",
        "    except ValueError:\n",
        "        print(\"Error: Please enter valid numerical values for heights.\")\n",
        "if __name__ == \"__main__\":\n",
        "    main()"
      ],
      "metadata": {
        "colab": {
          "base_uri": "https://localhost:8080/"
        },
        "id": "XmoMOWduKZiR",
        "outputId": "c24f71ad-241a-48d2-c685-3a65f2e02b00"
      },
      "execution_count": null,
      "outputs": [
        {
          "output_type": "stream",
          "name": "stdout",
          "text": [
            "Enter the number of heights: 4\n",
            "Enter height (in inches) for height 1: 150\n",
            "Enter height (in inches) for height 2: 155\n",
            "Enter height (in inches) for height 3: 145\n",
            "Enter height (in inches) for height 4: 148\n",
            "\n",
            "Heights (in inches): [150.0, 155.0, 145.0, 148.0]\n",
            "Heights (in centimeters) using nested loop: [381.0, 393.7, 368.3, 375.92]\n",
            "Heights (in centimeters) using list comprehension: [381.0, 393.7, 368.3, 375.92]\n"
          ]
        }
      ]
    }
  ]
}